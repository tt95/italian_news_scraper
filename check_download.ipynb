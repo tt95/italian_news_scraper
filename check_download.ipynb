{
 "cells": [
  {
   "cell_type": "markdown",
   "id": "544035b6-065a-4492-ad35-ada34e9b25a9",
   "metadata": {},
   "source": [
    "# Sono state scaricate tutte le homepage?"
   ]
  },
  {
   "cell_type": "code",
   "execution_count": 44,
   "id": "9db1fcda-87e2-439d-9ab0-42126b3ff307",
   "metadata": {},
   "outputs": [
    {
     "name": "stdout",
     "output_type": "stream",
     "text": [
      "set()\n"
     ]
    }
   ],
   "source": [
    "import pandas as pd\n",
    "from datetime import date, timedelta\n",
    "\n",
    "newspaper = \"ilgiornale\"\n",
    "from_date = date(2021,1,1)\n",
    "to_date = date(2021,1,4)\n",
    "\n",
    "from_to_string = \"from_\" + str(from_date) + \"_to_\" + str(to_date)\n",
    "directory_name = newspaper + \"_news_\" + from_to_string\n",
    " \n",
    "\n",
    "df = pd.read_csv(\"./news/\"+ directory_name + \".csv\",sep=\",\", parse_dates=[\"memento_datetime\"])\n",
    "\n",
    "anno = []\n",
    "d = date(2021,1,1)\n",
    "anno.append(d)\n",
    "\n",
    "\n",
    "d = d + timedelta(days=1)\n",
    "while d < to_date:\n",
    "    anno.append(d)\n",
    "    d = d + timedelta(days=1)\n",
    "\n",
    "df[\"date\"] = df['memento_datetime'].apply(lambda x: x.date())\n",
    "lista = set(df['date'].tolist())\n",
    "\n",
    "\n",
    "print(set(anno) - set(lista))"
   ]
  },
  {
   "cell_type": "markdown",
   "id": "70c5610b-4412-404e-9a39-72e44a1f4572",
   "metadata": {},
   "source": [
    "# Sono state scaricate tutte le news delle homepage?"
   ]
  },
  {
   "cell_type": "code",
   "execution_count": 114,
   "id": "d6012160-d18e-4b2d-a31d-8fd27c08a838",
   "metadata": {},
   "outputs": [
    {
     "name": "stdout",
     "output_type": "stream",
     "text": [
      "['./news/ilgiornale_news_from_2021-01-01_to_2021-01-04/1_2021-01-02_03:49:56.html', './news/ilgiornale_news_from_2021-01-01_to_2021-01-04/4_2021-01-02_03:49:56.html', './news/ilgiornale_news_from_2021-01-01_to_2021-01-04/4_2021-01-03_05:17:07.html']\n"
     ]
    }
   ],
   "source": [
    "import pandas as pd\n",
    "from datetime import date, datetime\n",
    "\n",
    "not_downloaded = []\n",
    "indexes = []\n",
    "\n",
    "newspaper = \"ilgiornale\"\n",
    "from_date = date(2021,1,1)\n",
    "to_date = date(2021,1,4)\n",
    "\n",
    "from_to_string = \"from_\" + str(from_date) + \"_to_\" + str(to_date)\n",
    "directory_name = newspaper + \"_news_\" + from_to_string\n",
    " \n",
    "\n",
    "df = pd.read_csv(\"./news/\"+ directory_name + \".csv\",sep=\",\", parse_dates=[\"memento_datetime\"])\n",
    "\n",
    "\n",
    "for idx in df.index:\n",
    "    row=df.loc[idx, :]\n",
    "    file_name = str(row.loc['rank']) + \"_\" + row.loc['memento_datetime'].strftime(\"%Y-%m-%d_%H:%M:%S\") + \".html\"\n",
    "    fullpath = \"./news/\" + directory_name + \"/\" + file_name\n",
    "    try:\n",
    "        with open(fullpath, 'r', encoding='utf-8') as f:\n",
    "            pass\n",
    "    except FileNotFoundError:\n",
    "        not_downloaded.append(fullpath)\n",
    "        indexes.append(idx)\n",
    "\n",
    "print(not_downloaded)"
   ]
  },
  {
   "cell_type": "markdown",
   "id": "d6f10a6d-e308-436f-b6d1-a3f4ced5c144",
   "metadata": {},
   "source": [
    "### Se mancano, riscarica le news e aggiungile  "
   ]
  },
  {
   "cell_type": "code",
   "execution_count": 113,
   "id": "c79c6e83-6b0a-423c-a52b-82e30b0e010a",
   "metadata": {},
   "outputs": [],
   "source": [
    "import requests\n",
    "\n",
    "for idx in indexes:\n",
    "    link = df.loc[idx, 'news_link']\n",
    "    \n",
    "    page = requests.get(link, timeout=10)\n",
    "    with open(news, 'w', encoding='utf-8') as f:\n",
    "        f.write(page.text)"
   ]
  }
 ],
 "metadata": {
  "kernelspec": {
   "display_name": "Python 3.7.11 64-bit ('torch_env': conda)",
   "language": "python",
   "name": "python3711jvsc74a57bd01af109615ea98da3d9b0f461927692896534cda3ba016f56ce23857500e55bdf"
  },
  "language_info": {
   "codemirror_mode": {
    "name": "ipython",
    "version": 3
   },
   "file_extension": ".py",
   "mimetype": "text/x-python",
   "name": "python",
   "nbconvert_exporter": "python",
   "pygments_lexer": "ipython3",
   "version": "3.7.11"
  }
 },
 "nbformat": 4,
 "nbformat_minor": 5
}
